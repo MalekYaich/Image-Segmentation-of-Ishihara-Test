{
 "cells": [
  {
   "cell_type": "markdown",
   "id": "8d61b814",
   "metadata": {},
   "source": [
    "<h6>Projet Fouille de données :</h6>\n",
    "<h2 align=\"center\">  Ségmentation d'images avec K-means </h2>  \n",
    "<h6 align=\"right\" > réalisé par : Malèk YAICH & Med Amine LAHYANI</h6>\n",
    "</br>"
   ]
  },
  {
   "cell_type": "markdown",
   "id": "1189ed90",
   "metadata": {},
   "source": [
    "### Importation des bibliothèques "
   ]
  },
  {
   "cell_type": "code",
   "execution_count": 1,
   "id": "8609e2be",
   "metadata": {},
   "outputs": [],
   "source": [
    "import numpy as np\n",
    "import pandas as pd \n",
    "import matplotlib.pyplot as plt\n",
    "import matplotlib.image as mpimg\n",
    "import os\n",
    "import cv2\n",
    "import plotly.express as px\n",
    "\n",
    "import warnings\n",
    "warnings.filterwarnings(\"ignore\")"
   ]
  },
  {
   "cell_type": "markdown",
   "id": "edb4d853",
   "metadata": {},
   "source": [
    "# I. La Compréhension des données"
   ]
  },
  {
   "cell_type": "code",
   "execution_count": null,
   "id": "bc342808",
   "metadata": {},
   "outputs": [],
   "source": [
    "path_list = os.listdir(\"data/\")\n",
    "path =[]\n",
    "number =[]\n",
    "image = []\n",
    "type = []\n",
    "police= []\n",
    "\n",
    "for i in path_list:\n",
    "    \n",
    "    number.append (i[0])\n",
    "    path.append(\"data/\"+i)\n",
    "    \n",
    "    im = cv2.imread(\"data/\"+i)\n",
    "    image.append(cv2.cvtColor(im, cv2.COLOR_BGR2RGB))\n",
    "    \n",
    "    split = i.split()\n",
    "    type.append(split[0][-1])\n",
    "    police.append(split[0][2:-3])\n",
    "\n",
    "data = pd.DataFrame({'path': path,'police':police,\"number\":number,'type_im':type , 'image':image })    \n",
    "\n",
    "data.head()"
   ]
  },
  {
   "cell_type": "code",
   "execution_count": null,
   "id": "442ec901",
   "metadata": {},
   "outputs": [],
   "source": [
    "data.shape"
   ]
  },
  {
   "cell_type": "code",
   "execution_count": null,
   "id": "241f3dcf",
   "metadata": {},
   "outputs": [],
   "source": [
    "data.type_im.value_counts()"
   ]
  },
  {
   "cell_type": "code",
   "execution_count": null,
   "id": "b4b4fa83",
   "metadata": {},
   "outputs": [],
   "source": [
    "data.number.value_counts()"
   ]
  },
  {
   "cell_type": "code",
   "execution_count": null,
   "id": "8b9d756a",
   "metadata": {},
   "outputs": [],
   "source": [
    "data.police.value_counts().head()"
   ]
  },
  {
   "cell_type": "code",
   "execution_count": null,
   "id": "5ccd0d43",
   "metadata": {},
   "outputs": [],
   "source": [
    "data.isnull().sum()"
   ]
  },
  {
   "cell_type": "markdown",
   "id": "793e9f2b",
   "metadata": {},
   "source": [
    "## Chargement de l'image "
   ]
  },
  {
   "cell_type": "code",
   "execution_count": null,
   "id": "be69a8f4",
   "metadata": {},
   "outputs": [],
   "source": [
    "pic_imread = cv2.imread(data.path[2])"
   ]
  },
  {
   "cell_type": "markdown",
   "id": "f645ce6c",
   "metadata": {},
   "source": [
    "#### Conversion des couleurs de l'image en format RGB"
   ]
  },
  {
   "cell_type": "markdown",
   "id": "bdf47521",
   "metadata": {},
   "source": [
    "La fonction **`cv2.imread()`** renvoie une image au format RBG, d'où la nécessité d'une conversion BGR vers RGB."
   ]
  },
  {
   "cell_type": "code",
   "execution_count": null,
   "id": "1d8a5a16",
   "metadata": {},
   "outputs": [],
   "source": [
    "pic = cv2.cvtColor(pic_imread, cv2.COLOR_BGR2RGB)\n"
   ]
  },
  {
   "cell_type": "code",
   "execution_count": null,
   "id": "734e1610",
   "metadata": {},
   "outputs": [],
   "source": [
    "plt.figure(figsize=(15,15))\n",
    "\n",
    "plt.subplot(2,3,1)\n",
    "plt.title('real image'), plt.xticks([]), plt.yticks([])\n",
    "plt.imshow(pic)\n",
    "       \n",
    "plt.subplot(2,3,2)\n",
    "plt.title('imread() image'), plt.xticks([]), plt.yticks([])\n",
    "plt.imshow(pic_imread)"
   ]
  },
  {
   "cell_type": "markdown",
   "id": "c9e18d02",
   "metadata": {},
   "source": [
    "#### Extraction des coordonnées RGB de l'image"
   ]
  },
  {
   "cell_type": "code",
   "execution_count": null,
   "id": "2dbfcb24",
   "metadata": {},
   "outputs": [],
   "source": [
    "def extractRGB(pic):\n",
    "    r, g, b = cv2.split(pic)\n",
    "    r=r.flatten()  \n",
    "    g=g.flatten()  \n",
    "    b=b.flatten()\n",
    "    x=np.array( [[ r[i],g[i],b[i]] for i in range (len(r))] )\n",
    "    x=np.unique(x,axis=0).transpose()\n",
    "    return (x[0] , x[1]  ,x[2])"
   ]
  },
  {
   "cell_type": "code",
   "execution_count": null,
   "id": "dacf1fe8",
   "metadata": {},
   "outputs": [],
   "source": [
    "r,g,b = extractRGB(pic)\n",
    "r"
   ]
  },
  {
   "cell_type": "markdown",
   "id": "a387fef2",
   "metadata": {},
   "source": [
    "## Rerésentation des contrastes des couleurs RGB "
   ]
  },
  {
   "cell_type": "code",
   "execution_count": null,
   "id": "7dc0e3a5",
   "metadata": {},
   "outputs": [],
   "source": [
    "def rgb_to_hex(r,g,b):\n",
    "    return '#{:02x}{:02x}{:02x}'.format(r,g,b)"
   ]
  },
  {
   "cell_type": "code",
   "execution_count": null,
   "id": "7a22d11c",
   "metadata": {},
   "outputs": [],
   "source": [
    "def barcolor (r, g, b ):\n",
    "\n",
    "    color =[]\n",
    "    n=len(r)\n",
    "\n",
    "    for i in range(n):\n",
    "        color.append(rgb_to_hex(r[i],g[i],b[i] )  )\n",
    "        \n",
    "    plt.figure(figsize=(10,0.5))\n",
    "\n",
    "    values = [10 for i in range(n)]\n",
    "\n",
    "    plt.bar(color, values , color=color) ;\n",
    "    plt.yticks([])\n",
    "\n",
    "\n",
    "    plt.show() \n",
    "    return color"
   ]
  },
  {
   "cell_type": "code",
   "execution_count": null,
   "id": "faacc806",
   "metadata": {},
   "outputs": [],
   "source": [
    "color=barcolor(r,g,b)"
   ]
  },
  {
   "cell_type": "code",
   "execution_count": null,
   "id": "ccb50a9b",
   "metadata": {},
   "outputs": [],
   "source": [
    "fig = px.scatter_3d(pd.DataFrame({'r':r,'g':g,\"b\":b}),  \n",
    "                    x='r',y='g',z='b')\n",
    "fig.update_layout(template= \"ggplot2\", margin=dict(l=0, r=0, b=0, t=0))\n",
    "fig.show()"
   ]
  },
  {
   "cell_type": "markdown",
   "id": "a34df7b5",
   "metadata": {},
   "source": [
    "# II. Préparation des données"
   ]
  },
  {
   "cell_type": "markdown",
   "id": "f1750fca",
   "metadata": {},
   "source": [
    "Nous allons utiliser la fonction **`cv2.kmeans()`**, qui prend un tableau 2 dimensions en entrée, et puisque notre image d'origine est en 3 dimensions (largeur, profondeur et hauteur de 3 valeurs RGB), nous devons aplatir la hauteur et la largeur dans un vecteur unique de pixels (3 valeurs RGB) :"
   ]
  },
  {
   "cell_type": "code",
   "execution_count": null,
   "id": "8e455403",
   "metadata": {},
   "outputs": [],
   "source": [
    "pixel_values = pic.reshape((-1, 3))\n",
    "pixel_values"
   ]
  },
  {
   "cell_type": "code",
   "execution_count": null,
   "id": "63a11eb1",
   "metadata": {},
   "outputs": [],
   "source": [
    "pixel_values = np.float32(pixel_values)\n",
    "pixel_values"
   ]
  },
  {
   "cell_type": "code",
   "execution_count": null,
   "id": "44aed464",
   "metadata": {
    "scrolled": true
   },
   "outputs": [],
   "source": [
    "pixel_values.shape"
   ]
  },
  {
   "cell_type": "markdown",
   "id": "9f3f1e11",
   "metadata": {},
   "source": [
    "# II. La modélisation  :Application de l'algorithme de K-Means "
   ]
  },
  {
   "cell_type": "code",
   "execution_count": null,
   "id": "01531022",
   "metadata": {},
   "outputs": [],
   "source": [
    "def kmeans(k,criteria,pixel_values,shape):\n",
    "    \n",
    "        _, labels, (centers) = cv2.kmeans(pixel_values, k, None, criteria, 10, cv2.KMEANS_PP_CENTERS)\n",
    "        \n",
    "        #Reconvertir en valeurs 8 bits\n",
    "        centers = np.uint8(centers)\n",
    "        labels = labels.flatten()\n",
    "        \n",
    "        # Convertir tous les pixels dans la couleur des centroïdes.\n",
    "        segmented_image = centers[labels.flatten()]\n",
    "        \n",
    "        # Reconvertir les dimensions de l'image en dimensions originales.\n",
    "        segmented_image = segmented_image.reshape(shape)\n",
    "        \n",
    "        return(segmented_image,labels)\n"
   ]
  },
  {
   "cell_type": "markdown",
   "id": "813c35c8",
   "metadata": {},
   "source": [
    " cv2.KMEANS_PP_CENTERS:\n",
    "Lorsque cette option est activée, la méthode itère d'abord sur l'ensemble de l'image pour déterminer les centres probables, puis commence à converger."
   ]
  },
  {
   "cell_type": "code",
   "execution_count": null,
   "id": "e2557a53",
   "metadata": {},
   "outputs": [],
   "source": [
    "criteria = (cv2.TERM_CRITERIA_EPS + cv2.TERM_CRITERIA_MAX_ITER, 100, 0.2)"
   ]
  },
  {
   "cell_type": "markdown",
   "id": "93afbfd0",
   "metadata": {},
   "source": [
    "**criteria** : Il s'agit du critère de fin d'itération. Lorsque ce critère est satisfait, l'itération de l'algorithme s'arrête. En fait, il s'agit d'un tuple de 3 paramètres. Ils sont ( type, max_iter, epsilon ).  \n",
    "\n",
    "* type de critère de résiliation :  \n",
    "Il dispose de 3 drapeaux, comme indiqué ci-dessous :\n",
    "   * **`cv2.TERM_CRITERIA_EPS`'** : arrête l'itération de l'algorithme si la précision spécifiée, epsilon, est atteinte.\n",
    "   * **`cv2.TERM_CRITERIA_MAX_ITER`** : arrête l'algorithme après le nombre d'itérations spécifié, max_iter.\n",
    "   * **`cv2.TERM_CRITERIA_EPS + cv2.TERM_CRITERIA_MAX_ITER`** : arrête l'itération lorsque l'une des conditions ci-dessus est remplie.\n",
    "* **`max_iter`** : Un nombre entier spécifiant le nombre maximum d'itérations.\n",
    "* **`epsilon`** : Précision requise"
   ]
  },
  {
   "cell_type": "code",
   "execution_count": null,
   "id": "e0eee22a",
   "metadata": {},
   "outputs": [],
   "source": [
    "k=7\n",
    "segmented_image,labels=kmeans(k,criteria,pixel_values,pic.shape)\n",
    "np.unique(labels)"
   ]
  },
  {
   "cell_type": "markdown",
   "id": "edb64b1f",
   "metadata": {},
   "source": [
    "Le choix de 7 clusters n'est pas aléatoire. Chaque cluster représentera une couleur."
   ]
  },
  {
   "cell_type": "markdown",
   "id": "634c9adc",
   "metadata": {},
   "source": [
    "# III. L'évaluation: Affichage du résultat"
   ]
  },
  {
   "cell_type": "code",
   "execution_count": null,
   "id": "ec545408",
   "metadata": {},
   "outputs": [],
   "source": [
    "plt.imshow(segmented_image)\n",
    "plt.title('segmented image'),plt.xticks([]), plt.yticks([])\n",
    "plt.show()"
   ]
  },
  {
   "cell_type": "code",
   "execution_count": null,
   "id": "2da6375f",
   "metadata": {},
   "outputs": [],
   "source": [
    "r1, g1 , b1 = extractRGB(segmented_image)\n",
    "\n",
    "color=barcolor(r1,g1,b1)"
   ]
  },
  {
   "cell_type": "code",
   "execution_count": null,
   "id": "83f8e74b",
   "metadata": {},
   "outputs": [],
   "source": [
    "segmented_image.shape"
   ]
  },
  {
   "cell_type": "code",
   "execution_count": null,
   "id": "e43e97d6",
   "metadata": {},
   "outputs": [],
   "source": [
    "def aff_cluster(i,segmented_image,labels):\n",
    "\n",
    "    im = np.copy(segmented_image)\n",
    "    im=im.reshape((-1, 3))\n",
    "   \n",
    "    im[labels != i] = [255,255, 255]\n",
    "    col= im[labels == i][0]\n",
    "\n",
    "    return (im.reshape(segmented_image.shape),rgb_to_hex(col[0],col[1],col[2]))"
   ]
  },
  {
   "cell_type": "code",
   "execution_count": null,
   "id": "a1851cc2",
   "metadata": {},
   "outputs": [],
   "source": [
    "fig, axs = plt.subplots(1, k,figsize=(15, 15))\n",
    "\n",
    "for i in range (k):\n",
    "    axs[i].imshow( aff_cluster(i,segmented_image,labels)[0] )\n",
    "    axs[i].title.set_text('cluster %i' % (i+1))\n",
    "\n",
    "plt.show()\n"
   ]
  },
  {
   "cell_type": "markdown",
   "id": "cd86dbae",
   "metadata": {},
   "source": [
    "### Reglage de l'hyperparamètre k :"
   ]
  },
  {
   "cell_type": "code",
   "execution_count": null,
   "id": "8542acab",
   "metadata": {},
   "outputs": [],
   "source": [
    "for k in range (2,7) :\n",
    "    segmented_image,labels= kmeans(k,criteria,pixel_values,pic.shape)\n",
    "    fig, axs = plt.subplots(1, k,figsize=(2*k, 10))\n",
    "    for i in range (k):\n",
    "        axs[i].imshow( aff_cluster(i,segmented_image,labels)[0] )\n",
    "        axs[i].title.set_text('cluster %i' % (i+1))\n",
    "\n",
    "    plt.show()"
   ]
  },
  {
   "cell_type": "markdown",
   "id": "7e1084a2",
   "metadata": {},
   "source": [
    "Dans la suite du travail, on considere **k=4**"
   ]
  },
  {
   "cell_type": "code",
   "execution_count": null,
   "id": "3fcc9385",
   "metadata": {},
   "outputs": [],
   "source": [
    "k=4"
   ]
  },
  {
   "cell_type": "code",
   "execution_count": null,
   "id": "a800cfc9",
   "metadata": {},
   "outputs": [],
   "source": [
    "segmented_image,labels= kmeans(k,criteria,pixel_values,pic.shape)\n",
    "fig, axs = plt.subplots(1, k,figsize=(2*k, 10))\n",
    "for i in range (k):\n",
    "        axs[i].imshow( aff_cluster(i,segmented_image,labels)[0] )\n",
    "        axs[i].title.set_text('cluster %i' % (i+1))\n",
    "\n",
    "plt.show()"
   ]
  },
  {
   "cell_type": "code",
   "execution_count": null,
   "id": "fb8c6398",
   "metadata": {},
   "outputs": [],
   "source": [
    "r1, g1 , b1 = extractRGB(segmented_image)\n",
    "\n",
    "color =barcolor(r1,g1,b1)"
   ]
  },
  {
   "cell_type": "markdown",
   "id": "51e280a7",
   "metadata": {},
   "source": [
    "### Comparaison de l'image originale et  l'image finale \n"
   ]
  },
  {
   "cell_type": "markdown",
   "id": "489f3837",
   "metadata": {},
   "source": [
    "le 4eme cluster represente bien le chiffre en question, il represente la couleur rose **`#ec8385`**"
   ]
  },
  {
   "cell_type": "code",
   "execution_count": null,
   "id": "cb2165dd",
   "metadata": {},
   "outputs": [],
   "source": [
    "def select_cluster(segmented_image,color,labels,type=2,k=4):\n",
    "    for i in range (k):\n",
    "        if aff_cluster(i,segmented_image,labels)[1]== color[type]:\n",
    "            segmented_image = aff_cluster(i,segmented_image,labels)[0]\n",
    "            break\n",
    "    return segmented_image"
   ]
  },
  {
   "cell_type": "code",
   "execution_count": null,
   "id": "a4b028d8",
   "metadata": {},
   "outputs": [],
   "source": [
    "final_img=select_cluster(segmented_image,color,labels)\n",
    "plt.figure(figsize=(15,15))\n",
    "\n",
    "plt.subplot(2,3,1)\n",
    "plt.title('Original image'), plt.xticks([]), plt.yticks([])\n",
    "\n",
    "plt.imshow(pic)\n",
    "       \n",
    "plt.subplot(2,3,2)\n",
    "plt.title('Final image'), plt.xticks([]), plt.yticks([])\n",
    "\n",
    "plt.imshow(final_img)"
   ]
  },
  {
   "cell_type": "markdown",
   "id": "1f9601ed",
   "metadata": {},
   "source": [
    "Ainsi, on a obtenu la partie qu'on voulait séparer des autres et on peut même la modifier comme on veut. Elle est totalement indépendante des autres parties supprimées."
   ]
  },
  {
   "cell_type": "code",
   "execution_count": null,
   "id": "d448dad3",
   "metadata": {},
   "outputs": [],
   "source": [
    "np.unique(final_img)"
   ]
  },
  {
   "cell_type": "code",
   "execution_count": null,
   "id": "46de8c33",
   "metadata": {},
   "outputs": [],
   "source": [
    "def modifierCouleur(final_image,couleur):\n",
    "    \n",
    "    couleur=couleur[1:]\n",
    "    RGB=list( int    (couleur[i:i+2], 16) for i in (0, 2, 4) )\n",
    "\n",
    "    for i in range(final_image.shape[0]):\n",
    "        for j in range(final_image.shape[1]):\n",
    "            if (final_image[i][j][0]!=255):\n",
    "                final_image[i][j]=RGB             \n",
    "            \n",
    "    plt.imshow(final_image),plt.xticks([]), plt.yticks([])"
   ]
  },
  {
   "cell_type": "code",
   "execution_count": null,
   "id": "1853bf45",
   "metadata": {},
   "outputs": [],
   "source": [
    "modifierCouleur(final_img,\"#f4897\")"
   ]
  },
  {
   "cell_type": "markdown",
   "id": "9588e525",
   "metadata": {},
   "source": [
    "# IV. Généralisation :\n"
   ]
  },
  {
   "cell_type": "code",
   "execution_count": null,
   "id": "52afe226",
   "metadata": {},
   "outputs": [],
   "source": [
    "def segmentation(index,data):\n",
    "    \n",
    "    image=data.image[index]\n",
    "    pixel_values = image.reshape((-1, 3))\n",
    "    pixel_values = np.float32(pixel_values)\n",
    "    k=4\n",
    "    cluster=0   \n",
    "    \n",
    "    if (data.type_im[index] == '1') :\n",
    "        k=7\n",
    "        cluster=5\n",
    "    elif data.type_im[index]  == \"3\":\n",
    "        cluster=2\n",
    "    criteria = (cv2.TERM_CRITERIA_EPS + cv2.TERM_CRITERIA_MAX_ITER, 100, 0.2)\n",
    "    segmented_image,labels=kmeans(k,criteria,pixel_values,image.shape)\n",
    "    r1, g1 , b1 = extractRGB(segmented_image)\n",
    "    color =barcolor(r1,g1,b1)\n",
    "    \n",
    "    resultat=select_cluster(segmented_image,color,labels,cluster,k)\n",
    "\n",
    "    return (image,resultat)"
   ]
  },
  {
   "cell_type": "code",
   "execution_count": null,
   "id": "ac153878",
   "metadata": {
    "scrolled": false
   },
   "outputs": [],
   "source": [
    "orig_img,final_img =segmentation(2,data)\n",
    "plt.figure(figsize=(15,15))\n",
    "\n",
    "plt.subplot(2,3,1)\n",
    "plt.title('Original image'), plt.xticks([]), plt.yticks([])\n",
    "\n",
    "plt.imshow(orig_img)\n",
    "       \n",
    "plt.subplot(2,3,2)\n",
    "plt.title('Final image'), plt.xticks([]), plt.yticks([])\n",
    "\n",
    "plt.imshow(final_img)"
   ]
  },
  {
   "cell_type": "markdown",
   "id": "ac794091",
   "metadata": {},
   "source": [
    "On peut également enregistrer les images obtenues:"
   ]
  },
  {
   "cell_type": "code",
   "execution_count": null,
   "id": "35a13089",
   "metadata": {},
   "outputs": [],
   "source": [
    "#os.mkdir('Resultat')"
   ]
  },
  {
   "cell_type": "code",
   "execution_count": null,
   "id": "d2d18f75",
   "metadata": {},
   "outputs": [],
   "source": [
    "#mpimg.imsave(\"Resultat/resultat.png\", final_img)"
   ]
  },
  {
   "cell_type": "code",
   "execution_count": null,
   "id": "9fff3d97",
   "metadata": {},
   "outputs": [],
   "source": [
    "#N= len(data)\n",
    "#N=10\n",
    "#for i in range (N):\n",
    "    #mpimg.imsave(\"Resultat/resultat\"+str(i)+\".png\", segmentation(i,data)[1])"
   ]
  }
 ],
 "metadata": {
  "kernelspec": {
   "display_name": "Python 3 (ipykernel)",
   "language": "python",
   "name": "python3"
  },
  "language_info": {
   "codemirror_mode": {
    "name": "ipython",
    "version": 3
   },
   "file_extension": ".py",
   "mimetype": "text/x-python",
   "name": "python",
   "nbconvert_exporter": "python",
   "pygments_lexer": "ipython3",
   "version": "3.9.16"
  }
 },
 "nbformat": 4,
 "nbformat_minor": 5
}
